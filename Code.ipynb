{
  "cells": [
    {
      "cell_type": "code",
      "execution_count": 1,
      "metadata": {
        "id": "LkhSK5gVkV6N"
      },
      "outputs": [],
      "source": [
        "#importing packages\n",
        "import numpy as np"
      ]
    },
    {
      "cell_type": "code",
      "execution_count": 2,
      "metadata": {
        "id": "mv7GZ5TIp6NF"
      },
      "outputs": [],
      "source": [
        "#initializing values\n",
        "X = np.array([[0,0],[0,1],[1,0],[1,1]])\n",
        "y = np.array([0,1,1,0])\n",
        "\n",
        "w1 = np.array([1,1,1,1])\n",
        "w2 = np.array([-1,1])\n",
        "\n",
        "b1 = np.array([-1.5, -0.5])\n",
        "b2 = np.array([-0.5])"
      ]
    },
    {
      "cell_type": "code",
      "execution_count": 3,
      "metadata": {
        "id": "MbG7AmC6sjsZ"
      },
      "outputs": [],
      "source": [
        "#Direct Method\n",
        "def summation(x,w,b):\n",
        "  sum_h = [0,0]\n",
        "  for i in range(len(x)):\n",
        "    sum_h[i] = (x[0]*w[:2][i]+x[1]*w[2:][i])+b[i]\n",
        "    #sum_h[i] = np.dot(x,w[:2][i])[0]+b[i]\n",
        "  return sum_h\n",
        "\n",
        "def activation(sum):\n",
        "  if sum >= 0:\n",
        "    return 1\n",
        "  else:\n",
        "    return 0"
      ]
    },
    {
      "cell_type": "code",
      "execution_count": 4,
      "metadata": {
        "colab": {
          "base_uri": "https://localhost:8080/"
        },
        "id": "Yen9ShWCyc9H",
        "outputId": "6cece25a-4ba9-4389-c2cc-dd1bbcffce20"
      },
      "outputs": [
        {
          "data": {
            "text/plain": [
              "[0, 1, 1, 0]"
            ]
          },
          "execution_count": 4,
          "metadata": {},
          "output_type": "execute_result"
        }
      ],
      "source": [
        "y_pred = []\n",
        "for i in range(len(X)):\n",
        "  x = X[i]\n",
        "  sumprod = summation(x,w1,b1)\n",
        "  hidden = [0,0]\n",
        "  for h in range(len(sumprod)):\n",
        "    hidden[h] = activation(sumprod[h])\n",
        "  sumprod_f = np.dot(hidden,w2)+b2[0]\n",
        "  y_pred.append(activation(sumprod_f))\n",
        "\n",
        "y_pred"
      ]
    },
    {
      "cell_type": "code",
      "execution_count": null,
      "metadata": {},
      "outputs": [],
      "source": []
    }
  ],
  "metadata": {
    "colab": {
      "provenance": []
    },
    "kernelspec": {
      "display_name": "Python 3",
      "name": "python3"
    },
    "language_info": {
      "codemirror_mode": {
        "name": "ipython",
        "version": 3
      },
      "file_extension": ".py",
      "mimetype": "text/x-python",
      "name": "python",
      "nbconvert_exporter": "python",
      "pygments_lexer": "ipython3",
      "version": "3.11.1"
    }
  },
  "nbformat": 4,
  "nbformat_minor": 0
}
